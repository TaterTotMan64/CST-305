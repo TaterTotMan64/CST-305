{
 "cells": [
  {
   "metadata": {},
   "cell_type": "markdown",
   "source": "",
   "id": "281ea4e901eb6"
  },
  {
   "cell_type": "code",
   "id": "initial_id",
   "metadata": {
    "collapsed": true,
    "ExecuteTime": {
     "end_time": "2024-12-07T21:58:34.820533Z",
     "start_time": "2024-12-07T21:58:34.803639Z"
    }
   },
   "source": [
    "# Given from the initial table\n",
    "arrival_time = [1, 2, 3, 4, 5, 6, 7, 8, 9, 10, 11, 12, 13, 14, 15]\n",
    "service_duration = [2.22, 1.76, 2.13, 0.14, 0.76, 0.70, 0.47, 0.22, 0.18, 2.41, 0.41, 0.46, 1.37, 0.27, 0.27]\n",
    "\n",
    "# Columns to calculate\n",
    "exit_time = []\n",
    "service_start_time = []\n",
    "time_in_queue = []\n",
    "number_in_system = []\n",
    "number_in_queue = []\n",
    "\n",
    "# Calculate the values for each customer\n",
    "for i in range(len(arrival_time)):\n",
    "    # Calculate service start time\n",
    "    if i == 0:\n",
    "        service_start_time.append(arrival_time[i])\n",
    "    else:\n",
    "        service_start_time.append(max(arrival_time[i], exit_time[i-1]))\n",
    "    \n",
    "    # Calculate exit time\n",
    "    exit_time.append(service_start_time[i] + service_duration[i])\n",
    "    \n",
    "    # Calculate time in queue\n",
    "    time_in_queue.append(service_start_time[i] - arrival_time[i])\n",
    "    \n",
    "    # Number in system is always at least 1 when a customer arrives\n",
    "    number_in_system.append(1 + len([at for at in arrival_time[:i] if at < exit_time[i-1]]))\n",
    "    \n",
    "    # Number in queue at arrival time\n",
    "    if i == 0:\n",
    "        number_in_queue.append(0)\n",
    "    else:\n",
    "        number_in_queue.append(len([at for at in arrival_time[:i] if at < exit_time[i-1]]) - 1)\n",
    "\n",
    "# Output the calculated values\n",
    "print(\"Arrival Time:\", arrival_time)\n",
    "print(\"Service Duration:\", service_duration)\n",
    "print(\"Service Start Time:\", service_start_time)\n",
    "print(\"Exit Time:\", exit_time)\n",
    "print(\"Time in Queue:\", time_in_queue)\n",
    "print(\"Number in System:\", number_in_system)\n",
    "print(\"Number in Queue:\", number_in_queue)\n"
   ],
   "outputs": [
    {
     "name": "stdout",
     "output_type": "stream",
     "text": [
      "Arrival Time: [1, 2, 3, 4, 5, 6, 7, 8, 9, 10, 11, 12, 13, 14, 15]\n",
      "Service Duration: [2.22, 1.76, 2.13, 0.14, 0.76, 0.7, 0.47, 0.22, 0.18, 2.41, 0.41, 0.46, 1.37, 0.27, 0.27]\n",
      "Service Start Time: [1, 3.22, 4.98, 7.11, 7.25, 8.01, 8.709999999999999, 9.18, 9.4, 10, 12.41, 12.82, 13.280000000000001, 14.650000000000002, 15]\n",
      "Exit Time: [3.22, 4.98, 7.11, 7.25, 8.01, 8.709999999999999, 9.18, 9.4, 9.58, 12.41, 12.82, 13.280000000000001, 14.650000000000002, 14.920000000000002, 15.27]\n",
      "Time in Queue: [0, 1.2200000000000002, 1.9800000000000004, 3.1100000000000003, 2.25, 2.01, 1.709999999999999, 1.1799999999999997, 0.40000000000000036, 0, 1.4100000000000001, 0.8200000000000003, 0.28000000000000114, 0.6500000000000021, 0]\n",
      "Number in System: [1, 2, 3, 4, 5, 6, 7, 8, 9, 10, 11, 12, 13, 14, 15]\n",
      "Number in Queue: [0, 0, 1, 2, 3, 4, 5, 6, 7, 8, 9, 10, 11, 12, 13]\n"
     ]
    }
   ],
   "execution_count": 1
  }
 ],
 "metadata": {
  "kernelspec": {
   "display_name": "Python 3",
   "language": "python",
   "name": "python3"
  },
  "language_info": {
   "codemirror_mode": {
    "name": "ipython",
    "version": 2
   },
   "file_extension": ".py",
   "mimetype": "text/x-python",
   "name": "python",
   "nbconvert_exporter": "python",
   "pygments_lexer": "ipython2",
   "version": "2.7.6"
  }
 },
 "nbformat": 4,
 "nbformat_minor": 5
}
