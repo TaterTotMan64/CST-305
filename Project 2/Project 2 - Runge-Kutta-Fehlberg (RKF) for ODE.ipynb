{
 "cells": [
  {
   "cell_type": "code",
   "execution_count": 1,
   "id": "initial_id",
   "metadata": {
    "collapsed": true,
    "ExecuteTime": {
     "end_time": "2024-09-18T19:09:33.641083Z",
     "start_time": "2024-09-18T19:09:33.552161Z"
    }
   },
   "outputs": [
    {
     "name": "stdout",
     "output_type": "stream",
     "text": [
      "x\t\ty\n",
      "1.00\t5.0000\n",
      "1.02\t5.0576\n",
      "1.04\t5.1141\n",
      "1.06\t5.1695\n",
      "1.08\t5.2237\n",
      "1.10\t5.2769\n"
     ]
    }
   ],
   "source": [
    "import numpy as np\n",
    "\n",
    "def f(x, y):\n",
    "    \"\"\"\n",
    "    Defines the right-hand side of the differential equation.\n",
    "\n",
    "    Args:\n",
    "        x: Independent variable.\n",
    "        y: Dependent variable.\n",
    "\n",
    "    Returns:\n",
    "        The value of dy/dx.\n",
    "    \"\"\"\n",
    "    return y / (np.exp(x) - 1)\n",
    "\n",
    "def runge_kutta_4(f, x0, y0, h, n):\n",
    "    \"\"\"\n",
    "    Solves the differential equation using the 4th-order Runge-Kutta method.\n",
    "\n",
    "    Args:\n",
    "        f: The function defining the right-hand side of the ODE.\n",
    "        x0: The initial x value.\n",
    "        y0: The initial y value.\n",
    "        h: The step size.\n",
    "        n: The number of steps.\n",
    "\n",
    "    Returns:\n",
    "        A list of x values and a list of corresponding y values.\n",
    "    \"\"\"\n",
    "    x = np.zeros(n+1)\n",
    "    y = np.zeros(n+1)\n",
    "    x[0] = x0\n",
    "    y[0] = y0\n",
    "\n",
    "    for i in range(n):\n",
    "        k1 = h * f(x[i], y[i])\n",
    "        k2 = h * f(x[i] + h/2, y[i] + k1/2)\n",
    "        k3 = h * f(x[i] + h/2, y[i] + k2/2)\n",
    "        k4 = h * f(x[i] + h, y[i] + k3)\n",
    "\n",
    "        x[i+1] = x[i] + h\n",
    "        y[i+1] = y[i] + (k1 + 2*k2 + 2*k3 + k4) / 6\n",
    "\n",
    "    return x, y\n",
    "\n",
    "# Example usage\n",
    "x0 = 1\n",
    "y0 = 5\n",
    "h = 0.02\n",
    "n = 5\n",
    "\n",
    "x_values, y_values = runge_kutta_4(f, x0, y0, h, n)\n",
    "\n",
    "print(\"x\\t\\ty\")\n",
    "for x, y in zip(x_values, y_values):\n",
    "    print(f\"{x:.2f}\\t{y:.4f}\")"
   ]
  }
 ],
 "metadata": {
  "kernelspec": {
   "display_name": "Python 3",
   "language": "python",
   "name": "python3"
  },
  "language_info": {
   "codemirror_mode": {
    "name": "ipython",
    "version": 2
   },
   "file_extension": ".py",
   "mimetype": "text/x-python",
   "name": "python",
   "nbconvert_exporter": "python",
   "pygments_lexer": "ipython2",
   "version": "2.7.6"
  }
 },
 "nbformat": 4,
 "nbformat_minor": 5
}
