{
 "cells": [
  {
   "cell_type": "code",
   "execution_count": 1,
   "id": "initial_id",
   "metadata": {
    "collapsed": true,
    "ExecuteTime": {
     "end_time": "2024-10-02T01:12:23.687668Z",
     "start_time": "2024-10-02T01:12:23.681575Z"
    }
   },
   "outputs": [
    {
     "name": "stdout",
     "output_type": "stream",
     "text": [
      "25\n",
      "183\n"
     ]
    }
   ],
   "source": [
    "x = 1;\n",
    "a = 12;\n",
    "b = 6 + 15 + 51 + a + 12 + 23 + 10;\n",
    "x = a + a + 1;\n",
    "y = x + a + b + 0 + a + 5;\n",
    "print(x);\n",
    "print(y);"
   ]
  }
 ],
 "metadata": {
  "kernelspec": {
   "display_name": "Python 3",
   "language": "python",
   "name": "python3"
  },
  "language_info": {
   "codemirror_mode": {
    "name": "ipython",
    "version": 2
   },
   "file_extension": ".py",
   "mimetype": "text/x-python",
   "name": "python",
   "nbconvert_exporter": "python",
   "pygments_lexer": "ipython2",
   "version": "2.7.6"
  }
 },
 "nbformat": 4,
 "nbformat_minor": 5
}
